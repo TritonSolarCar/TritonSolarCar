{
 "cells": [
  {
   "cell_type": "code",
   "execution_count": 9,
   "metadata": {
    "collapsed": false
   },
   "outputs": [],
   "source": [
    "# Jupyter notebook of led_on_off\n",
    "\n",
    "#simple script for user to enter 1 or 0 to turn arduino light on or off\n",
    "\n",
    "import serial                                       #Serial imported for Serial communication\n",
    "import time                                         #Required to use delay functions   \n",
    "\n",
    "\n",
    "#     'try:\n",
    "#         data = ArduinoUnoSerial.readline()\n",
    "#         print data\n",
    "#     except Exception, e:\n",
    "#         print \"error open serial port: \" + str(e)\n",
    "#         exit()'''"
   ]
  },
  {
   "cell_type": "code",
   "execution_count": 10,
   "metadata": {
    "collapsed": false
   },
   "outputs": [],
   "source": [
    "ArduinoUnoSerial = serial.Serial(\n",
    "    port='COM5',\n",
    "    baudrate=9600,\n",
    "    parity=serial.PARITY_NONE,\n",
    "    stopbits=serial.STOPBITS_ONE,\n",
    "    bytesize=serial.EIGHTBITS,\n",
    "    timeout=1 \n",
    ")       #Create Serial port object called ArduinoUnoSerialData time.sleep(2)                                                             #wait for 2 secounds for the communication to get established\n"
   ]
  },
  {
   "cell_type": "code",
   "execution_count": null,
   "metadata": {
    "collapsed": false
   },
   "outputs": [
    {
     "name": "stdout",
     "output_type": "stream",
     "text": [
      "b''\n",
      "b'Hi!, I am Arduino\\r\\n'\n",
      "You have new message from Arduino\n",
      "1\n",
      "LED turned ON\n",
      "0\n",
      "LED turned OFF\n",
      "1\n",
      "LED turned ON\n"
     ]
    }
   ],
   "source": [
    "print (ArduinoUnoSerial.readline())                   #read the serial data and print it as line \n",
    "print (ArduinoUnoSerial.readline())                   #read the serial data and print it as line \n",
    "print (\"You have new message from Arduino\")\n",
    "while 1:    #Do this forever\n",
    "    var = input()                                   #get input from user             \n",
    "    if (var == '1'):                                    #if the value is 1         \n",
    "        ArduinoUnoSerial.write(bytes([1]))                     #send 1 to the arduino's Data code       \n",
    "        print (\"LED turned ON\")         \n",
    "        time.sleep(1)          \n",
    "    if (var == '0'): #if the value is 0         \n",
    "        ArduinoUnoSerial.write(bytes([0]))                     #send 0 to the arduino's Data code    \n",
    "        print (\"LED turned OFF\")         \n",
    "        time.sleep(1)"
   ]
  },
  {
   "cell_type": "code",
   "execution_count": 8,
   "metadata": {
    "collapsed": false
   },
   "outputs": [
    {
     "data": {
      "text/plain": [
       "b'\\x08'"
      ]
     },
     "execution_count": 8,
     "metadata": {},
     "output_type": "execute_result"
    }
   ],
   "source": []
  },
  {
   "cell_type": "code",
   "execution_count": null,
   "metadata": {
    "collapsed": true
   },
   "outputs": [],
   "source": []
  }
 ],
 "metadata": {
  "anaconda-cloud": {},
  "kernelspec": {
   "display_name": "Python [Root]",
   "language": "python",
   "name": "Python [Root]"
  },
  "language_info": {
   "codemirror_mode": {
    "name": "ipython",
    "version": 3
   },
   "file_extension": ".py",
   "mimetype": "text/x-python",
   "name": "python",
   "nbconvert_exporter": "python",
   "pygments_lexer": "ipython3",
   "version": "3.5.2"
  }
 },
 "nbformat": 4,
 "nbformat_minor": 0
}
