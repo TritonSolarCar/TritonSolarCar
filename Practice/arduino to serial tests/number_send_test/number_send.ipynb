{
 "cells": [
  {
   "cell_type": "code",
   "execution_count": 1,
   "metadata": {
    "collapsed": true
   },
   "outputs": [],
   "source": [
    "import serial                                       #Serial imported for Serial communication\n",
    "import time                                         #Required to use delay functions   \n",
    "import struct                                       #nterpret strings as packed binary data   "
   ]
  },
  {
   "cell_type": "code",
   "execution_count": 2,
   "metadata": {
    "collapsed": true
   },
   "outputs": [],
   "source": [
    "ser = serial.Serial(\n",
    "    port='COM5',\n",
    "    baudrate=9600,\n",
    "    parity=serial.PARITY_NONE,\n",
    "    stopbits=serial.STOPBITS_ONE,\n",
    "    bytesize=serial.EIGHTBITS,\n",
    "    timeout=1 \n",
    ")\n",
    "time.sleep(2) \n",
    "#ser.write(struct.pack('>BBBB',75,10,220,30)) #send 4 unsigned bytes (for method 0)\n",
    "#ser.write(struct.pack('>iiii',75,10,330,30)) #send 4 ints \n"
   ]
  },
  {
   "cell_type": "code",
   "execution_count": null,
   "metadata": {
    "collapsed": false
   },
   "outputs": [
    {
     "name": "stdout",
     "output_type": "stream",
     "text": [
      "75.0\n",
      "10.699999809265137\n",
      "220.0\n",
      "30.0\n"
     ]
    }
   ],
   "source": [
    "ser.write(struct.pack('>ffff',75,10.7,220,30)) #send 4 floats (method 2)\n",
    "#ser.write(struct.pack('>iiii',73,74,75,76)) #ascii values for I,J,K, and L sent in int form\n",
    "\n",
    "while True:\n",
    "    #for the first two methods in the arduino sketch\n",
    "    #Be careful when using readline(). Do specify a timeout when opening \n",
    "    #the serial port otherwise it could block forever if no newline character is received.\n",
    "#     '''data =  ser.readline() \n",
    "#     print data'''\n",
    "\n",
    "    #for the third method in the arduino sketch. This actually correctly obtains int values\n",
    "#     '''if (ser.inWaiting() > 3):   #make sure we have 4 bytes available to read \n",
    "#         byteString = ser.read(4)\n",
    "#         #printing byteString would print the ascii value \n",
    "#         result = struct.unpack(\">I\", byteString)[0] #the '>' tells python that the bytes are stored in big endian order\n",
    "#         print result'''\n",
    "\n",
    "    #for floats in method 2 in arduino sketch, for floats\n",
    "    if (ser.inWaiting() > 3):   #make sure we have 4 bytes available to read \n",
    "        byteString = ser.read(4)\n",
    "        #printing byteString would print the ascii value \n",
    "        result = struct.unpack(\">f\", byteString)[0]\n",
    "        print (result)\n",
    "        #interestingly, if we sent the pack of ints from python to arduino instead,\n",
    "        #this would print in floating point representation \n",
    "\n",
    "    time.sleep(.5)"
   ]
  },
  {
   "cell_type": "code",
   "execution_count": null,
   "metadata": {
    "collapsed": true
   },
   "outputs": [],
   "source": []
  }
 ],
 "metadata": {
  "anaconda-cloud": {},
  "kernelspec": {
   "display_name": "Python [Root]",
   "language": "python",
   "name": "Python [Root]"
  },
  "language_info": {
   "codemirror_mode": {
    "name": "ipython",
    "version": 3
   },
   "file_extension": ".py",
   "mimetype": "text/x-python",
   "name": "python",
   "nbconvert_exporter": "python",
   "pygments_lexer": "ipython3",
   "version": "3.5.2"
  }
 },
 "nbformat": 4,
 "nbformat_minor": 0
}
